{
 "cells": [
  {
   "cell_type": "code",
   "execution_count": 1,
   "metadata": {
    "_cell_guid": "b1076dfc-b9ad-4769-8c92-a6c4dae69d19",
    "_uuid": "8f2839f25d086af736a60e9eeb907d3b93b6e0e5"
   },
   "outputs": [],
   "source": [
    "import numpy as np # linear algebra\n",
    "import pandas as pd # data processing, CSV file I/O (e.g. pd.read_csv)\n",
    "import json\n",
    "\n",
    "import matplotlib.pyplot as plt\n",
    "import seaborn as sns\n",
    "\n",
    "from typing import List\n",
    "\n",
    "import os\n",
    "from tqdm import tqdm"
   ]
  },
  {
   "cell_type": "code",
   "execution_count": 2,
   "metadata": {
    "_cell_guid": "79c7e3d0-c299-4dcb-8224-4455121ee9b0",
    "_uuid": "d629ff2d2480ee46fbb7e2d37f6b5fab8052498a"
   },
   "outputs": [],
   "source": [
    "train = json.load(open('./input/cooking_train.json', 'r'))\n",
    "test = json.load(open('./input/cooking_test.json', 'r'))"
   ]
  },
  {
   "cell_type": "code",
   "execution_count": 3,
   "metadata": {
    "_uuid": "36475ab00914ab8f9c624f2a187ebc21ce66d059"
   },
   "outputs": [
    {
     "data": {
      "text/plain": [
       "30000"
      ]
     },
     "execution_count": 3,
     "metadata": {},
     "output_type": "execute_result"
    }
   ],
   "source": [
    "len(train)"
   ]
  },
  {
   "cell_type": "code",
   "execution_count": 4,
   "metadata": {
    "_uuid": "8d2882cfba41d869edc2dfb4f63daca74ae43c2a"
   },
   "outputs": [
    {
     "data": {
      "text/plain": [
       "9774"
      ]
     },
     "execution_count": 4,
     "metadata": {},
     "output_type": "execute_result"
    }
   ],
   "source": [
    "len(test)"
   ]
  },
  {
   "cell_type": "code",
   "execution_count": 5,
   "metadata": {
    "_uuid": "f37dbc88b01ff254ad72720ad8eb7f52e325206e"
   },
   "outputs": [
    {
     "data": {
      "text/plain": [
       "{'cuisine': 'chinese',\n",
       " 'id': 29565,\n",
       " 'ingredients': ['romaine lettuce',\n",
       "  'sliced almonds',\n",
       "  'vegetable oil',\n",
       "  'scallions',\n",
       "  'soy sauce',\n",
       "  'cooked chicken',\n",
       "  'napa cabbage',\n",
       "  'chopped cilantro fresh',\n",
       "  'sugar',\n",
       "  'sesame seeds',\n",
       "  'wonton wrappers',\n",
       "  'fresh lemon juice',\n",
       "  'white vinegar',\n",
       "  'black pepper',\n",
       "  'sesame oil',\n",
       "  'salt',\n",
       "  'snow peas']}"
      ]
     },
     "execution_count": 5,
     "metadata": {},
     "output_type": "execute_result"
    }
   ],
   "source": [
    "train[0]"
   ]
  },
  {
   "cell_type": "code",
   "execution_count": 6,
   "metadata": {},
   "outputs": [],
   "source": [
    "all_recipes = train + test"
   ]
  },
  {
   "cell_type": "markdown",
   "metadata": {
    "_uuid": "af77eb4e2182248584f933db2ae7b7a5d8da39d8"
   },
   "source": [
    "## Count unique ingredients"
   ]
  },
  {
   "cell_type": "code",
   "execution_count": 7,
   "metadata": {
    "_uuid": "c72005240bada1f90c5650ebf3733e74ce97bb60"
   },
   "outputs": [],
   "source": [
    "train_meta = pd.DataFrame(index=[r['id'] for r in train], data={\n",
    "    'ingred_len': [len(r['ingredients']) for r in train],\n",
    "    'cuisine': [r['cuisine'] for r in train],\n",
    "    'train': 1\n",
    "})\n",
    "\n",
    "test_meta = pd.DataFrame(index=[r['id'] for r in test], data={\n",
    "    'ingred_len': [len(r['ingredients']) for r in test],\n",
    "    'train': 0\n",
    "})"
   ]
  },
  {
   "cell_type": "code",
   "execution_count": 8,
   "metadata": {
    "_uuid": "29c6f2be9088b65f0509315ee4ebe54d599db7ad",
    "scrolled": true
   },
   "outputs": [
    {
     "data": {
      "text/html": [
       "<div>\n",
       "<style scoped>\n",
       "    .dataframe tbody tr th:only-of-type {\n",
       "        vertical-align: middle;\n",
       "    }\n",
       "\n",
       "    .dataframe tbody tr th {\n",
       "        vertical-align: top;\n",
       "    }\n",
       "\n",
       "    .dataframe thead th {\n",
       "        text-align: right;\n",
       "    }\n",
       "</style>\n",
       "<table border=\"1\" class=\"dataframe\">\n",
       "  <thead>\n",
       "    <tr style=\"text-align: right;\">\n",
       "      <th></th>\n",
       "      <th>ingred_len</th>\n",
       "      <th>cuisine</th>\n",
       "      <th>train</th>\n",
       "    </tr>\n",
       "  </thead>\n",
       "  <tbody>\n",
       "    <tr>\n",
       "      <th>29565</th>\n",
       "      <td>17</td>\n",
       "      <td>chinese</td>\n",
       "      <td>1</td>\n",
       "    </tr>\n",
       "    <tr>\n",
       "      <th>15528</th>\n",
       "      <td>8</td>\n",
       "      <td>italian</td>\n",
       "      <td>1</td>\n",
       "    </tr>\n",
       "    <tr>\n",
       "      <th>38015</th>\n",
       "      <td>15</td>\n",
       "      <td>cajun_creole</td>\n",
       "      <td>1</td>\n",
       "    </tr>\n",
       "    <tr>\n",
       "      <th>20511</th>\n",
       "      <td>19</td>\n",
       "      <td>italian</td>\n",
       "      <td>1</td>\n",
       "    </tr>\n",
       "    <tr>\n",
       "      <th>44111</th>\n",
       "      <td>14</td>\n",
       "      <td>chinese</td>\n",
       "      <td>1</td>\n",
       "    </tr>\n",
       "  </tbody>\n",
       "</table>\n",
       "</div>"
      ],
      "text/plain": [
       "       ingred_len       cuisine  train\n",
       "29565          17       chinese      1\n",
       "15528           8       italian      1\n",
       "38015          15  cajun_creole      1\n",
       "20511          19       italian      1\n",
       "44111          14       chinese      1"
      ]
     },
     "execution_count": 8,
     "metadata": {},
     "output_type": "execute_result"
    }
   ],
   "source": [
    "train_meta.head()"
   ]
  },
  {
   "cell_type": "code",
   "execution_count": 9,
   "metadata": {
    "_uuid": "b9d3f230fbb4a59d9e394eb3aa0f4a2e8c9e4e6c"
   },
   "outputs": [
    {
     "data": {
      "text/plain": [
       "39774"
      ]
     },
     "execution_count": 9,
     "metadata": {},
     "output_type": "execute_result"
    }
   ],
   "source": [
    "meta = pd.concat([train_meta, test_meta], sort=True)\n",
    "len(meta)"
   ]
  },
  {
   "cell_type": "markdown",
   "metadata": {
    "_uuid": "c2baaa402da2e8c3f810fe815c0d9dcea853c78d"
   },
   "source": [
    "# Generating vectors"
   ]
  },
  {
   "cell_type": "code",
   "execution_count": 10,
   "metadata": {
    "_uuid": "c35b10b794d1b696ac13f5d8059fa366c011a630"
   },
   "outputs": [],
   "source": [
    "from sklearn.feature_extraction.text import TfidfVectorizer, CountVectorizer\n",
    "from sklearn.decomposition import PCA\n",
    "from sklearn.preprocessing import MinMaxScaler"
   ]
  },
  {
   "cell_type": "code",
   "execution_count": 11,
   "metadata": {
    "_uuid": "fdf21c3e0736910d021c9a20430e8a182ea1fbb3"
   },
   "outputs": [
    {
     "name": "stdout",
     "output_type": "stream",
     "text": [
      "39774\n",
      "CPU times: user 0 ns, sys: 0 ns, total: 0 ns\n",
      "Wall time: 828 µs\n"
     ]
    }
   ],
   "source": [
    "%%time\n",
    "all_recipes = train + test\n",
    "print(len(all_recipes))"
   ]
  },
  {
   "cell_type": "code",
   "execution_count": 12,
   "metadata": {
    "_uuid": "eee5bafd4d592329dd8d08141d48419ccdca117c"
   },
   "outputs": [
    {
     "name": "stdout",
     "output_type": "stream",
     "text": [
      "<class 'scipy.sparse.csr.csr_matrix'>\n",
      "(39774, 81045)\n",
      "CPU times: user 1.74 s, sys: 44 ms, total: 1.78 s\n",
      "Wall time: 1.78 s\n"
     ]
    }
   ],
   "source": [
    "%%time\n",
    "vectorizer = CountVectorizer(ngram_range=(1,2), analyzer='word')\n",
    "all_ingredients = [', '.join(r['ingredients']) for r in all_recipes]\n",
    "all_vectors = vectorizer.fit_transform(all_ingredients)\n",
    "print(type(all_vectors))\n",
    "assert(len(all_recipes) == all_vectors.shape[0])\n",
    "print(all_vectors.shape)"
   ]
  },
  {
   "cell_type": "markdown",
   "metadata": {},
   "source": [
    "Bigrams are way too big feature space for this dataset, let's see if we can decrease their number by only using the most meaningful words / ingredients."
   ]
  },
  {
   "cell_type": "code",
   "execution_count": 13,
   "metadata": {},
   "outputs": [
    {
     "name": "stderr",
     "output_type": "stream",
     "text": [
      "100%|██████████| 30000/30000 [00:13<00:00, 2195.30it/s]"
     ]
    },
    {
     "name": "stdout",
     "output_type": "stream",
     "text": [
      "CPU times: user 13.9 s, sys: 556 ms, total: 14.4 s\n",
      "Wall time: 13.7 s\n"
     ]
    },
    {
     "name": "stderr",
     "output_type": "stream",
     "text": [
      "\n"
     ]
    }
   ],
   "source": [
    "%%time\n",
    "ingred_cuisine_dfs = [\n",
    "    pd.DataFrame({\n",
    "        'ingredient': recipe['ingredients'],\n",
    "        recipe['cuisine']: 1\n",
    "    }) for recipe in tqdm(train)\n",
    "]"
   ]
  },
  {
   "cell_type": "code",
   "execution_count": 21,
   "metadata": {},
   "outputs": [
    {
     "name": "stdout",
     "output_type": "stream",
     "text": [
      "CPU times: user 30.4 s, sys: 496 ms, total: 30.9 s\n",
      "Wall time: 24.5 s\n"
     ]
    }
   ],
   "source": [
    "%%time\n",
    "ingredient_cuisines = pd.concat(ingred_cuisine_dfs, sort=False).fillna(0).groupby('ingredient').sum()"
   ]
  },
  {
   "cell_type": "code",
   "execution_count": 22,
   "metadata": {},
   "outputs": [
    {
     "data": {
      "text/html": [
       "<div>\n",
       "<style scoped>\n",
       "    .dataframe tbody tr th:only-of-type {\n",
       "        vertical-align: middle;\n",
       "    }\n",
       "\n",
       "    .dataframe tbody tr th {\n",
       "        vertical-align: top;\n",
       "    }\n",
       "\n",
       "    .dataframe thead th {\n",
       "        text-align: right;\n",
       "    }\n",
       "</style>\n",
       "<table border=\"1\" class=\"dataframe\">\n",
       "  <thead>\n",
       "    <tr style=\"text-align: right;\">\n",
       "      <th></th>\n",
       "      <th>chinese</th>\n",
       "      <th>italian</th>\n",
       "      <th>cajun_creole</th>\n",
       "      <th>southern_us</th>\n",
       "      <th>spanish</th>\n",
       "      <th>british</th>\n",
       "      <th>mexican</th>\n",
       "      <th>korean</th>\n",
       "      <th>indian</th>\n",
       "      <th>thai</th>\n",
       "      <th>irish</th>\n",
       "      <th>filipino</th>\n",
       "      <th>greek</th>\n",
       "      <th>jamaican</th>\n",
       "      <th>vietnamese</th>\n",
       "      <th>french</th>\n",
       "      <th>moroccan</th>\n",
       "      <th>japanese</th>\n",
       "      <th>russian</th>\n",
       "      <th>brazilian</th>\n",
       "    </tr>\n",
       "    <tr>\n",
       "      <th>ingredient</th>\n",
       "      <th></th>\n",
       "      <th></th>\n",
       "      <th></th>\n",
       "      <th></th>\n",
       "      <th></th>\n",
       "      <th></th>\n",
       "      <th></th>\n",
       "      <th></th>\n",
       "      <th></th>\n",
       "      <th></th>\n",
       "      <th></th>\n",
       "      <th></th>\n",
       "      <th></th>\n",
       "      <th></th>\n",
       "      <th></th>\n",
       "      <th></th>\n",
       "      <th></th>\n",
       "      <th></th>\n",
       "      <th></th>\n",
       "      <th></th>\n",
       "    </tr>\n",
       "  </thead>\n",
       "  <tbody>\n",
       "    <tr>\n",
       "      <th>(    oz.) tomato sauce</th>\n",
       "      <td>0.0</td>\n",
       "      <td>6.0</td>\n",
       "      <td>1.0</td>\n",
       "      <td>0.0</td>\n",
       "      <td>0.0</td>\n",
       "      <td>0.0</td>\n",
       "      <td>1.0</td>\n",
       "      <td>0.0</td>\n",
       "      <td>0.0</td>\n",
       "      <td>0.0</td>\n",
       "      <td>0.0</td>\n",
       "      <td>0.0</td>\n",
       "      <td>0.0</td>\n",
       "      <td>0.0</td>\n",
       "      <td>0.0</td>\n",
       "      <td>0.0</td>\n",
       "      <td>0.0</td>\n",
       "      <td>0.0</td>\n",
       "      <td>0.0</td>\n",
       "      <td>0.0</td>\n",
       "    </tr>\n",
       "    <tr>\n",
       "      <th>(   oz.) tomato paste</th>\n",
       "      <td>0.0</td>\n",
       "      <td>1.0</td>\n",
       "      <td>0.0</td>\n",
       "      <td>0.0</td>\n",
       "      <td>0.0</td>\n",
       "      <td>0.0</td>\n",
       "      <td>2.0</td>\n",
       "      <td>0.0</td>\n",
       "      <td>2.0</td>\n",
       "      <td>0.0</td>\n",
       "      <td>0.0</td>\n",
       "      <td>0.0</td>\n",
       "      <td>0.0</td>\n",
       "      <td>0.0</td>\n",
       "      <td>0.0</td>\n",
       "      <td>0.0</td>\n",
       "      <td>0.0</td>\n",
       "      <td>0.0</td>\n",
       "      <td>0.0</td>\n",
       "      <td>0.0</td>\n",
       "    </tr>\n",
       "    <tr>\n",
       "      <th>(10 oz.) frozen chopped spinach</th>\n",
       "      <td>0.0</td>\n",
       "      <td>3.0</td>\n",
       "      <td>0.0</td>\n",
       "      <td>0.0</td>\n",
       "      <td>0.0</td>\n",
       "      <td>0.0</td>\n",
       "      <td>0.0</td>\n",
       "      <td>0.0</td>\n",
       "      <td>0.0</td>\n",
       "      <td>0.0</td>\n",
       "      <td>0.0</td>\n",
       "      <td>0.0</td>\n",
       "      <td>0.0</td>\n",
       "      <td>0.0</td>\n",
       "      <td>0.0</td>\n",
       "      <td>0.0</td>\n",
       "      <td>0.0</td>\n",
       "      <td>0.0</td>\n",
       "      <td>0.0</td>\n",
       "      <td>0.0</td>\n",
       "    </tr>\n",
       "    <tr>\n",
       "      <th>(14.5 oz.) diced tomatoes</th>\n",
       "      <td>0.0</td>\n",
       "      <td>0.0</td>\n",
       "      <td>0.0</td>\n",
       "      <td>0.0</td>\n",
       "      <td>0.0</td>\n",
       "      <td>0.0</td>\n",
       "      <td>2.0</td>\n",
       "      <td>0.0</td>\n",
       "      <td>0.0</td>\n",
       "      <td>0.0</td>\n",
       "      <td>0.0</td>\n",
       "      <td>0.0</td>\n",
       "      <td>0.0</td>\n",
       "      <td>0.0</td>\n",
       "      <td>0.0</td>\n",
       "      <td>0.0</td>\n",
       "      <td>0.0</td>\n",
       "      <td>0.0</td>\n",
       "      <td>0.0</td>\n",
       "      <td>0.0</td>\n",
       "    </tr>\n",
       "    <tr>\n",
       "      <th>(15 oz.) refried beans</th>\n",
       "      <td>0.0</td>\n",
       "      <td>0.0</td>\n",
       "      <td>0.0</td>\n",
       "      <td>0.0</td>\n",
       "      <td>0.0</td>\n",
       "      <td>0.0</td>\n",
       "      <td>2.0</td>\n",
       "      <td>0.0</td>\n",
       "      <td>0.0</td>\n",
       "      <td>0.0</td>\n",
       "      <td>0.0</td>\n",
       "      <td>0.0</td>\n",
       "      <td>0.0</td>\n",
       "      <td>0.0</td>\n",
       "      <td>0.0</td>\n",
       "      <td>0.0</td>\n",
       "      <td>0.0</td>\n",
       "      <td>0.0</td>\n",
       "      <td>0.0</td>\n",
       "      <td>0.0</td>\n",
       "    </tr>\n",
       "  </tbody>\n",
       "</table>\n",
       "</div>"
      ],
      "text/plain": [
       "                                 chinese  italian  cajun_creole  southern_us  \\\n",
       "ingredient                                                                     \n",
       "(    oz.) tomato sauce               0.0      6.0           1.0          0.0   \n",
       "(   oz.) tomato paste                0.0      1.0           0.0          0.0   \n",
       "(10 oz.) frozen chopped spinach      0.0      3.0           0.0          0.0   \n",
       "(14.5 oz.) diced tomatoes            0.0      0.0           0.0          0.0   \n",
       "(15 oz.) refried beans               0.0      0.0           0.0          0.0   \n",
       "\n",
       "                                 spanish  british  mexican  korean  indian  \\\n",
       "ingredient                                                                   \n",
       "(    oz.) tomato sauce               0.0      0.0      1.0     0.0     0.0   \n",
       "(   oz.) tomato paste                0.0      0.0      2.0     0.0     2.0   \n",
       "(10 oz.) frozen chopped spinach      0.0      0.0      0.0     0.0     0.0   \n",
       "(14.5 oz.) diced tomatoes            0.0      0.0      2.0     0.0     0.0   \n",
       "(15 oz.) refried beans               0.0      0.0      2.0     0.0     0.0   \n",
       "\n",
       "                                 thai  irish  filipino  greek  jamaican  \\\n",
       "ingredient                                                                \n",
       "(    oz.) tomato sauce            0.0    0.0       0.0    0.0       0.0   \n",
       "(   oz.) tomato paste             0.0    0.0       0.0    0.0       0.0   \n",
       "(10 oz.) frozen chopped spinach   0.0    0.0       0.0    0.0       0.0   \n",
       "(14.5 oz.) diced tomatoes         0.0    0.0       0.0    0.0       0.0   \n",
       "(15 oz.) refried beans            0.0    0.0       0.0    0.0       0.0   \n",
       "\n",
       "                                 vietnamese  french  moroccan  japanese  \\\n",
       "ingredient                                                                \n",
       "(    oz.) tomato sauce                  0.0     0.0       0.0       0.0   \n",
       "(   oz.) tomato paste                   0.0     0.0       0.0       0.0   \n",
       "(10 oz.) frozen chopped spinach         0.0     0.0       0.0       0.0   \n",
       "(14.5 oz.) diced tomatoes               0.0     0.0       0.0       0.0   \n",
       "(15 oz.) refried beans                  0.0     0.0       0.0       0.0   \n",
       "\n",
       "                                 russian  brazilian  \n",
       "ingredient                                           \n",
       "(    oz.) tomato sauce               0.0        0.0  \n",
       "(   oz.) tomato paste                0.0        0.0  \n",
       "(10 oz.) frozen chopped spinach      0.0        0.0  \n",
       "(14.5 oz.) diced tomatoes            0.0        0.0  \n",
       "(15 oz.) refried beans               0.0        0.0  "
      ]
     },
     "execution_count": 22,
     "metadata": {},
     "output_type": "execute_result"
    }
   ],
   "source": [
    "ingredient_cuisines.head()"
   ]
  },
  {
   "cell_type": "code",
   "execution_count": 23,
   "metadata": {},
   "outputs": [],
   "source": [
    "cuisine_colnames = ingredient_cuisines.columns\n",
    "ingredient_cuisines['sum'] = ingredient_cuisines[cuisine_colnames].sum(axis=1)\n",
    "ingredient_cuisines['std'] = ingredient_cuisines[cuisine_colnames].std(axis=1)\n",
    "ingredient_cuisines['nunique'] = ingredient_cuisines[cuisine_colnames].nunique(axis=1)\n",
    "ingredient_cuisines.sort_values(by='sum', ascending=False, inplace=True)"
   ]
  },
  {
   "cell_type": "code",
   "execution_count": 24,
   "metadata": {},
   "outputs": [
    {
     "data": {
      "text/html": [
       "<div>\n",
       "<style scoped>\n",
       "    .dataframe tbody tr th:only-of-type {\n",
       "        vertical-align: middle;\n",
       "    }\n",
       "\n",
       "    .dataframe tbody tr th {\n",
       "        vertical-align: top;\n",
       "    }\n",
       "\n",
       "    .dataframe thead th {\n",
       "        text-align: right;\n",
       "    }\n",
       "</style>\n",
       "<table border=\"1\" class=\"dataframe\">\n",
       "  <thead>\n",
       "    <tr style=\"text-align: right;\">\n",
       "      <th></th>\n",
       "      <th>chinese</th>\n",
       "      <th>italian</th>\n",
       "      <th>cajun_creole</th>\n",
       "      <th>southern_us</th>\n",
       "      <th>spanish</th>\n",
       "      <th>british</th>\n",
       "      <th>mexican</th>\n",
       "      <th>korean</th>\n",
       "      <th>indian</th>\n",
       "      <th>thai</th>\n",
       "      <th>...</th>\n",
       "      <th>jamaican</th>\n",
       "      <th>vietnamese</th>\n",
       "      <th>french</th>\n",
       "      <th>moroccan</th>\n",
       "      <th>japanese</th>\n",
       "      <th>russian</th>\n",
       "      <th>brazilian</th>\n",
       "      <th>sum</th>\n",
       "      <th>std</th>\n",
       "      <th>nunique</th>\n",
       "    </tr>\n",
       "    <tr>\n",
       "      <th>ingredient</th>\n",
       "      <th></th>\n",
       "      <th></th>\n",
       "      <th></th>\n",
       "      <th></th>\n",
       "      <th></th>\n",
       "      <th></th>\n",
       "      <th></th>\n",
       "      <th></th>\n",
       "      <th></th>\n",
       "      <th></th>\n",
       "      <th></th>\n",
       "      <th></th>\n",
       "      <th></th>\n",
       "      <th></th>\n",
       "      <th></th>\n",
       "      <th></th>\n",
       "      <th></th>\n",
       "      <th></th>\n",
       "      <th></th>\n",
       "      <th></th>\n",
       "      <th></th>\n",
       "    </tr>\n",
       "  </thead>\n",
       "  <tbody>\n",
       "    <tr>\n",
       "      <th>salt</th>\n",
       "      <td>709.0</td>\n",
       "      <td>2586.0</td>\n",
       "      <td>560.0</td>\n",
       "      <td>1739.0</td>\n",
       "      <td>348.0</td>\n",
       "      <td>301.0</td>\n",
       "      <td>2071.0</td>\n",
       "      <td>194.0</td>\n",
       "      <td>1476.0</td>\n",
       "      <td>306.0</td>\n",
       "      <td>...</td>\n",
       "      <td>261.0</td>\n",
       "      <td>197.0</td>\n",
       "      <td>908.0</td>\n",
       "      <td>304.0</td>\n",
       "      <td>332.0</td>\n",
       "      <td>211.0</td>\n",
       "      <td>145.0</td>\n",
       "      <td>13681.0</td>\n",
       "      <td>708.865994</td>\n",
       "      <td>20</td>\n",
       "    </tr>\n",
       "    <tr>\n",
       "      <th>olive oil</th>\n",
       "      <td>103.0</td>\n",
       "      <td>2345.0</td>\n",
       "      <td>234.0</td>\n",
       "      <td>224.0</td>\n",
       "      <td>296.0</td>\n",
       "      <td>39.0</td>\n",
       "      <td>999.0</td>\n",
       "      <td>27.0</td>\n",
       "      <td>272.0</td>\n",
       "      <td>88.0</td>\n",
       "      <td>...</td>\n",
       "      <td>46.0</td>\n",
       "      <td>29.0</td>\n",
       "      <td>377.0</td>\n",
       "      <td>303.0</td>\n",
       "      <td>49.0</td>\n",
       "      <td>36.0</td>\n",
       "      <td>92.0</td>\n",
       "      <td>6026.0</td>\n",
       "      <td>531.868019</td>\n",
       "      <td>20</td>\n",
       "    </tr>\n",
       "    <tr>\n",
       "      <th>onions</th>\n",
       "      <td>212.0</td>\n",
       "      <td>940.0</td>\n",
       "      <td>382.0</td>\n",
       "      <td>358.0</td>\n",
       "      <td>190.0</td>\n",
       "      <td>108.0</td>\n",
       "      <td>1124.0</td>\n",
       "      <td>155.0</td>\n",
       "      <td>922.0</td>\n",
       "      <td>122.0</td>\n",
       "      <td>...</td>\n",
       "      <td>128.0</td>\n",
       "      <td>82.0</td>\n",
       "      <td>274.0</td>\n",
       "      <td>213.0</td>\n",
       "      <td>124.0</td>\n",
       "      <td>107.0</td>\n",
       "      <td>97.0</td>\n",
       "      <td>6024.0</td>\n",
       "      <td>312.643836</td>\n",
       "      <td>20</td>\n",
       "    </tr>\n",
       "    <tr>\n",
       "      <th>water</th>\n",
       "      <td>575.0</td>\n",
       "      <td>784.0</td>\n",
       "      <td>207.0</td>\n",
       "      <td>518.0</td>\n",
       "      <td>112.0</td>\n",
       "      <td>84.0</td>\n",
       "      <td>689.0</td>\n",
       "      <td>183.0</td>\n",
       "      <td>609.0</td>\n",
       "      <td>241.0</td>\n",
       "      <td>...</td>\n",
       "      <td>109.0</td>\n",
       "      <td>169.0</td>\n",
       "      <td>335.0</td>\n",
       "      <td>136.0</td>\n",
       "      <td>288.0</td>\n",
       "      <td>79.0</td>\n",
       "      <td>66.0</td>\n",
       "      <td>5604.0</td>\n",
       "      <td>227.222034</td>\n",
       "      <td>20</td>\n",
       "    </tr>\n",
       "    <tr>\n",
       "      <th>garlic</th>\n",
       "      <td>593.0</td>\n",
       "      <td>1129.0</td>\n",
       "      <td>282.0</td>\n",
       "      <td>180.0</td>\n",
       "      <td>93.0</td>\n",
       "      <td>26.0</td>\n",
       "      <td>982.0</td>\n",
       "      <td>216.0</td>\n",
       "      <td>559.0</td>\n",
       "      <td>321.0</td>\n",
       "      <td>...</td>\n",
       "      <td>98.0</td>\n",
       "      <td>167.0</td>\n",
       "      <td>162.0</td>\n",
       "      <td>108.0</td>\n",
       "      <td>129.0</td>\n",
       "      <td>16.0</td>\n",
       "      <td>66.0</td>\n",
       "      <td>5574.0</td>\n",
       "      <td>308.252989</td>\n",
       "      <td>20</td>\n",
       "    </tr>\n",
       "  </tbody>\n",
       "</table>\n",
       "<p>5 rows × 23 columns</p>\n",
       "</div>"
      ],
      "text/plain": [
       "            chinese  italian  cajun_creole  southern_us  spanish  british  \\\n",
       "ingredient                                                                  \n",
       "salt          709.0   2586.0         560.0       1739.0    348.0    301.0   \n",
       "olive oil     103.0   2345.0         234.0        224.0    296.0     39.0   \n",
       "onions        212.0    940.0         382.0        358.0    190.0    108.0   \n",
       "water         575.0    784.0         207.0        518.0    112.0     84.0   \n",
       "garlic        593.0   1129.0         282.0        180.0     93.0     26.0   \n",
       "\n",
       "            mexican  korean  indian   thai   ...     jamaican  vietnamese  \\\n",
       "ingredient                                   ...                            \n",
       "salt         2071.0   194.0  1476.0  306.0   ...        261.0       197.0   \n",
       "olive oil     999.0    27.0   272.0   88.0   ...         46.0        29.0   \n",
       "onions       1124.0   155.0   922.0  122.0   ...        128.0        82.0   \n",
       "water         689.0   183.0   609.0  241.0   ...        109.0       169.0   \n",
       "garlic        982.0   216.0   559.0  321.0   ...         98.0       167.0   \n",
       "\n",
       "            french  moroccan  japanese  russian  brazilian      sum  \\\n",
       "ingredient                                                            \n",
       "salt         908.0     304.0     332.0    211.0      145.0  13681.0   \n",
       "olive oil    377.0     303.0      49.0     36.0       92.0   6026.0   \n",
       "onions       274.0     213.0     124.0    107.0       97.0   6024.0   \n",
       "water        335.0     136.0     288.0     79.0       66.0   5604.0   \n",
       "garlic       162.0     108.0     129.0     16.0       66.0   5574.0   \n",
       "\n",
       "                   std  nunique  \n",
       "ingredient                       \n",
       "salt        708.865994       20  \n",
       "olive oil   531.868019       20  \n",
       "onions      312.643836       20  \n",
       "water       227.222034       20  \n",
       "garlic      308.252989       20  \n",
       "\n",
       "[5 rows x 23 columns]"
      ]
     },
     "execution_count": 24,
     "metadata": {},
     "output_type": "execute_result"
    }
   ],
   "source": [
    "ingredient_cuisines.head()"
   ]
  },
  {
   "cell_type": "code",
   "execution_count": 25,
   "metadata": {},
   "outputs": [
    {
     "data": {
      "text/plain": [
       "(117, 6134)"
      ]
     },
     "execution_count": 25,
     "metadata": {},
     "output_type": "execute_result"
    }
   ],
   "source": [
    "popular_ingredients = list(ingredient_cuisines[ingredient_cuisines['sum'] > 512].index)\n",
    "other_ingredients = [ingredient for ingredient in ingredient_cuisines.index if not ingredient in set(popular_ingredients)]\n",
    "len(popular_ingredients), len(other_ingredients)"
   ]
  },
  {
   "cell_type": "code",
   "execution_count": 26,
   "metadata": {},
   "outputs": [
    {
     "data": {
      "text/plain": [
       "13"
      ]
     },
     "execution_count": 26,
     "metadata": {},
     "output_type": "execute_result"
    }
   ],
   "source": [
    "present_everywhere = list(ingredient_cuisines[ingredient_cuisines['nunique'] == len(cuisine_colnames)].index)\n",
    "len(present_everywhere)"
   ]
  },
  {
   "cell_type": "code",
   "execution_count": 27,
   "metadata": {},
   "outputs": [
    {
     "data": {
      "text/plain": [
       "set()"
      ]
     },
     "execution_count": 27,
     "metadata": {},
     "output_type": "execute_result"
    }
   ],
   "source": [
    "set(present_everywhere) - set(popular_ingredients)"
   ]
  },
  {
   "cell_type": "markdown",
   "metadata": {},
   "source": [
    "We could use position of these popular ingredients as features, and ignore them in vectorization of less popular ones."
   ]
  },
  {
   "cell_type": "code",
   "execution_count": 28,
   "metadata": {},
   "outputs": [],
   "source": [
    "def preprocess_recipe(recipe: dict, popular_ingredients: List[str]=popular_ingredients, other_ingredients: List[str]=other_ingredients) -> dict:\n",
    "    recipe['ingredients'] = np.array(recipe['ingredients'], dtype=str)\n",
    "    recipe['positions'] = [\n",
    "        np.argmin(recipe['ingredients'] == ingredient) + 1 if ingredient in set(recipe['ingredients']) else 0 \n",
    "        for ingredient in popular_ingredients\n",
    "    ]\n",
    "    recipe['ingredients'] = np.array([ingredient for ingredient in recipe['ingredients'] if not ingredient in set(popular_ingredients)])\n",
    "    return recipe"
   ]
  },
  {
   "cell_type": "code",
   "execution_count": 29,
   "metadata": {},
   "outputs": [
    {
     "name": "stderr",
     "output_type": "stream",
     "text": [
      "100%|██████████| 39774/39774 [00:23<00:00, 1672.40it/s]"
     ]
    },
    {
     "name": "stdout",
     "output_type": "stream",
     "text": [
      "CPU times: user 24 s, sys: 984 ms, total: 25 s\n",
      "Wall time: 23.8 s\n"
     ]
    },
    {
     "name": "stderr",
     "output_type": "stream",
     "text": [
      "\n"
     ]
    }
   ],
   "source": [
    "%%time\n",
    "preprocessed_recipes = [preprocess_recipe(recipe) for recipe in tqdm(all_recipes)]"
   ]
  },
  {
   "cell_type": "markdown",
   "metadata": {
    "_uuid": "7c9a1c416da29b045115119de9ac4b2d69f4d780"
   },
   "source": [
    "# Generating features"
   ]
  },
  {
   "cell_type": "code",
   "execution_count": 30,
   "metadata": {
    "_uuid": "a28369751bb4779af63f515321a1d4089b7f83b2"
   },
   "outputs": [
    {
     "data": {
      "text/html": [
       "<div>\n",
       "<style scoped>\n",
       "    .dataframe tbody tr th:only-of-type {\n",
       "        vertical-align: middle;\n",
       "    }\n",
       "\n",
       "    .dataframe tbody tr th {\n",
       "        vertical-align: top;\n",
       "    }\n",
       "\n",
       "    .dataframe thead th {\n",
       "        text-align: right;\n",
       "    }\n",
       "</style>\n",
       "<table border=\"1\" class=\"dataframe\">\n",
       "  <thead>\n",
       "    <tr style=\"text-align: right;\">\n",
       "      <th></th>\n",
       "      <th>cuisine</th>\n",
       "      <th>ingred_len</th>\n",
       "      <th>train</th>\n",
       "    </tr>\n",
       "  </thead>\n",
       "  <tbody>\n",
       "    <tr>\n",
       "      <th>29565</th>\n",
       "      <td>chinese</td>\n",
       "      <td>17</td>\n",
       "      <td>1</td>\n",
       "    </tr>\n",
       "    <tr>\n",
       "      <th>15528</th>\n",
       "      <td>italian</td>\n",
       "      <td>8</td>\n",
       "      <td>1</td>\n",
       "    </tr>\n",
       "    <tr>\n",
       "      <th>38015</th>\n",
       "      <td>cajun_creole</td>\n",
       "      <td>15</td>\n",
       "      <td>1</td>\n",
       "    </tr>\n",
       "    <tr>\n",
       "      <th>20511</th>\n",
       "      <td>italian</td>\n",
       "      <td>19</td>\n",
       "      <td>1</td>\n",
       "    </tr>\n",
       "    <tr>\n",
       "      <th>44111</th>\n",
       "      <td>chinese</td>\n",
       "      <td>14</td>\n",
       "      <td>1</td>\n",
       "    </tr>\n",
       "  </tbody>\n",
       "</table>\n",
       "</div>"
      ],
      "text/plain": [
       "            cuisine  ingred_len  train\n",
       "29565       chinese          17      1\n",
       "15528       italian           8      1\n",
       "38015  cajun_creole          15      1\n",
       "20511       italian          19      1\n",
       "44111       chinese          14      1"
      ]
     },
     "execution_count": 30,
     "metadata": {},
     "output_type": "execute_result"
    }
   ],
   "source": [
    "meta_feature_columns = ['ingred_len']\n",
    "meta.head()"
   ]
  },
  {
   "cell_type": "code",
   "execution_count": 31,
   "metadata": {},
   "outputs": [
    {
     "name": "stderr",
     "output_type": "stream",
     "text": [
      "100%|██████████| 39774/39774 [03:48<00:00, 174.38it/s]\n"
     ]
    },
    {
     "name": "stdout",
     "output_type": "stream",
     "text": [
      "CPU times: user 3min 51s, sys: 4.68 s, total: 3min 55s\n",
      "Wall time: 3min 50s\n"
     ]
    }
   ],
   "source": [
    "%%time\n",
    "pos_feature_columns = popular_ingredients\n",
    "pos_feature_dfs = [\n",
    "    pd.DataFrame(data=[recipe.get('positions', np.zeros(len(popular_ingredients)))], columns=popular_ingredients, index=[recipe['id']])\n",
    "    for recipe in tqdm(all_recipes)\n",
    "]\n",
    "pos_features = pd.concat(pos_feature_dfs, sort=False)"
   ]
  },
  {
   "cell_type": "code",
   "execution_count": 32,
   "metadata": {},
   "outputs": [
    {
     "data": {
      "text/plain": [
       "((39774, 1), (39774, 117))"
      ]
     },
     "execution_count": 32,
     "metadata": {},
     "output_type": "execute_result"
    }
   ],
   "source": [
    "meta[meta_feature_columns].shape, pos_features.shape"
   ]
  },
  {
   "cell_type": "code",
   "execution_count": 33,
   "metadata": {
    "_uuid": "d0b8919c8943aa6ba3cfb97b88167ab55be59f03"
   },
   "outputs": [
    {
     "name": "stdout",
     "output_type": "stream",
     "text": [
      "(39774, 118)\n",
      "CPU times: user 312 ms, sys: 16 ms, total: 328 ms\n",
      "Wall time: 20.9 ms\n"
     ]
    }
   ],
   "source": [
    "%%time\n",
    "features = pd.concat([meta[meta_feature_columns], pos_features], axis=1, ignore_index=True)\n",
    "print(features.shape)"
   ]
  },
  {
   "cell_type": "code",
   "execution_count": 34,
   "metadata": {},
   "outputs": [
    {
     "name": "stdout",
     "output_type": "stream",
     "text": [
      "<class 'scipy.sparse.csr.csr_matrix'>\n",
      "(39774, 3008)\n",
      "CPU times: user 716 ms, sys: 8 ms, total: 724 ms\n",
      "Wall time: 721 ms\n"
     ]
    }
   ],
   "source": [
    "%%time\n",
    "vectorizer = CountVectorizer(analyzer='word')  # no ngrams this time\n",
    "all_ingredients = [', '.join(r['ingredients']) for r in all_recipes]  # all recipes contain preprocessed recipes\n",
    "all_vectors = vectorizer.fit_transform(all_ingredients)\n",
    "print(type(all_vectors))\n",
    "assert(len(all_recipes) == all_vectors.shape[0])\n",
    "print(all_vectors.shape)"
   ]
  },
  {
   "cell_type": "markdown",
   "metadata": {
    "_uuid": "f7735bb9d807b9b24ac297ae62b34a7ab2d198e1"
   },
   "source": [
    "# Assembling model input"
   ]
  },
  {
   "cell_type": "code",
   "execution_count": 35,
   "metadata": {
    "_uuid": "91bdfcc1f38cebe07736d328b7eed60f18cae4fd"
   },
   "outputs": [],
   "source": [
    "import scipy as sp\n",
    "from sklearn.preprocessing import LabelEncoder"
   ]
  },
  {
   "cell_type": "code",
   "execution_count": 41,
   "metadata": {
    "_uuid": "e931eb21b3d73d996854b6c80bf14bb2fac6ace5"
   },
   "outputs": [
    {
     "data": {
      "text/plain": [
       "(scipy.sparse.csr.csr_matrix, (39774, 3126))"
      ]
     },
     "execution_count": 41,
     "metadata": {},
     "output_type": "execute_result"
    }
   ],
   "source": [
    "assert(all_vectors.shape[0] == features.shape[0])\n",
    "data = sp.sparse.hstack([all_vectors, sp.sparse.csr_matrix(features.astype(float))], format='csr')\n",
    "type(data), data.shape"
   ]
  },
  {
   "cell_type": "code",
   "execution_count": 42,
   "metadata": {
    "_uuid": "e13b10a22e5e00c99bc596ad2d7bdcd7a069e552"
   },
   "outputs": [],
   "source": [
    "cousine_names = [r['cuisine'] for r in train]\n",
    "label_encoder = LabelEncoder()\n",
    "labels = label_encoder.fit_transform(cousine_names)"
   ]
  },
  {
   "cell_type": "code",
   "execution_count": 43,
   "metadata": {
    "_uuid": "df055b407e72458e452ffc96bc0be279919d542a"
   },
   "outputs": [],
   "source": [
    "train_data = data[:len(labels)]\n",
    "test_data = data[len(labels):]"
   ]
  },
  {
   "cell_type": "markdown",
   "metadata": {
    "_uuid": "9c9645f0bb00c8f00314ba74f0a705a15adbbc64"
   },
   "source": [
    "# Model training and cross-validation"
   ]
  },
  {
   "cell_type": "code",
   "execution_count": 44,
   "metadata": {
    "_uuid": "ccdee02475b6e3036ba700d6bfcd76e72cb61ce0"
   },
   "outputs": [],
   "source": [
    "from lightgbm import LGBMClassifier\n",
    "from sklearn.model_selection import StratifiedKFold"
   ]
  },
  {
   "cell_type": "code",
   "execution_count": 45,
   "metadata": {
    "_uuid": "0b15ea02f8087835cc1c33c846cd0b9912f41f60",
    "scrolled": true
   },
   "outputs": [
    {
     "name": "stdout",
     "output_type": "stream",
     "text": [
      "Training until validation scores don't improve for 64 rounds.\n",
      "[16]\tvalid_0's multi_logloss: 1.30516\tvalid_0's multi_error: 0.304174\n",
      "[32]\tvalid_0's multi_logloss: 1.03403\tvalid_0's multi_error: 0.27162\n",
      "[48]\tvalid_0's multi_logloss: 0.907695\tvalid_0's multi_error: 0.251248\n",
      "[64]\tvalid_0's multi_logloss: 0.837092\tvalid_0's multi_error: 0.238466\n",
      "[80]\tvalid_0's multi_logloss: 0.794376\tvalid_0's multi_error: 0.233273\n",
      "[96]\tvalid_0's multi_logloss: 0.767856\tvalid_0's multi_error: 0.225484\n",
      "[112]\tvalid_0's multi_logloss: 0.750516\tvalid_0's multi_error: 0.22109\n",
      "[128]\tvalid_0's multi_logloss: 0.740433\tvalid_0's multi_error: 0.219093\n",
      "[144]\tvalid_0's multi_logloss: 0.733222\tvalid_0's multi_error: 0.214899\n",
      "[160]\tvalid_0's multi_logloss: 0.727541\tvalid_0's multi_error: 0.2145\n",
      "[176]\tvalid_0's multi_logloss: 0.724324\tvalid_0's multi_error: 0.215299\n",
      "[192]\tvalid_0's multi_logloss: 0.721958\tvalid_0's multi_error: 0.213102\n",
      "[208]\tvalid_0's multi_logloss: 0.720539\tvalid_0's multi_error: 0.212303\n",
      "[224]\tvalid_0's multi_logloss: 0.721129\tvalid_0's multi_error: 0.210106\n",
      "[240]\tvalid_0's multi_logloss: 0.722118\tvalid_0's multi_error: 0.210106\n",
      "[256]\tvalid_0's multi_logloss: 0.72337\tvalid_0's multi_error: 0.209307\n",
      "[272]\tvalid_0's multi_logloss: 0.725112\tvalid_0's multi_error: 0.208908\n",
      "Early stopping, best iteration is:\n",
      "[212]\tvalid_0's multi_logloss: 0.720108\tvalid_0's multi_error: 0.211504\n",
      "Fold 0, val_accuracy=0.7884961054523667\n",
      "Training until validation scores don't improve for 64 rounds.\n",
      "[16]\tvalid_0's multi_logloss: 1.29906\tvalid_0's multi_error: 0.29978\n",
      "[32]\tvalid_0's multi_logloss: 1.02708\tvalid_0's multi_error: 0.26443\n",
      "[48]\tvalid_0's multi_logloss: 0.902728\tvalid_0's multi_error: 0.243259\n",
      "[64]\tvalid_0's multi_logloss: 0.832171\tvalid_0's multi_error: 0.234272\n",
      "[80]\tvalid_0's multi_logloss: 0.78916\tvalid_0's multi_error: 0.226683\n",
      "[96]\tvalid_0's multi_logloss: 0.762338\tvalid_0's multi_error: 0.220691\n",
      "[112]\tvalid_0's multi_logloss: 0.743852\tvalid_0's multi_error: 0.215299\n",
      "[128]\tvalid_0's multi_logloss: 0.731889\tvalid_0's multi_error: 0.211504\n",
      "[144]\tvalid_0's multi_logloss: 0.724159\tvalid_0's multi_error: 0.209107\n",
      "[160]\tvalid_0's multi_logloss: 0.719216\tvalid_0's multi_error: 0.20731\n",
      "[176]\tvalid_0's multi_logloss: 0.716381\tvalid_0's multi_error: 0.205912\n",
      "[192]\tvalid_0's multi_logloss: 0.714266\tvalid_0's multi_error: 0.205912\n",
      "[208]\tvalid_0's multi_logloss: 0.714558\tvalid_0's multi_error: 0.205313\n",
      "[224]\tvalid_0's multi_logloss: 0.713953\tvalid_0's multi_error: 0.204713\n",
      "[240]\tvalid_0's multi_logloss: 0.715559\tvalid_0's multi_error: 0.205313\n",
      "[256]\tvalid_0's multi_logloss: 0.718098\tvalid_0's multi_error: 0.204114\n",
      "[272]\tvalid_0's multi_logloss: 0.719368\tvalid_0's multi_error: 0.203315\n",
      "[288]\tvalid_0's multi_logloss: 0.721245\tvalid_0's multi_error: 0.202516\n",
      "Early stopping, best iteration is:\n",
      "[224]\tvalid_0's multi_logloss: 0.713953\tvalid_0's multi_error: 0.204713\n",
      "Fold 1, val_accuracy=0.7952865987617336\n",
      "Training until validation scores don't improve for 64 rounds.\n",
      "[16]\tvalid_0's multi_logloss: 1.29611\tvalid_0's multi_error: 0.30194\n",
      "[32]\tvalid_0's multi_logloss: 1.02892\tvalid_0's multi_error: 0.264747\n",
      "[48]\tvalid_0's multi_logloss: 0.906715\tvalid_0's multi_error: 0.245151\n",
      "[64]\tvalid_0's multi_logloss: 0.837402\tvalid_0's multi_error: 0.231354\n",
      "[80]\tvalid_0's multi_logloss: 0.795536\tvalid_0's multi_error: 0.224555\n",
      "[96]\tvalid_0's multi_logloss: 0.768656\tvalid_0's multi_error: 0.216157\n",
      "[112]\tvalid_0's multi_logloss: 0.750543\tvalid_0's multi_error: 0.211758\n",
      "[128]\tvalid_0's multi_logloss: 0.739847\tvalid_0's multi_error: 0.209958\n",
      "[144]\tvalid_0's multi_logloss: 0.733151\tvalid_0's multi_error: 0.210358\n",
      "[160]\tvalid_0's multi_logloss: 0.729163\tvalid_0's multi_error: 0.209758\n",
      "[176]\tvalid_0's multi_logloss: 0.727053\tvalid_0's multi_error: 0.209758\n",
      "[192]\tvalid_0's multi_logloss: 0.725217\tvalid_0's multi_error: 0.208958\n",
      "[208]\tvalid_0's multi_logloss: 0.724175\tvalid_0's multi_error: 0.206759\n",
      "[224]\tvalid_0's multi_logloss: 0.724784\tvalid_0's multi_error: 0.206759\n",
      "[240]\tvalid_0's multi_logloss: 0.726403\tvalid_0's multi_error: 0.204959\n",
      "[256]\tvalid_0's multi_logloss: 0.728247\tvalid_0's multi_error: 0.204959\n",
      "[272]\tvalid_0's multi_logloss: 0.730868\tvalid_0's multi_error: 0.204559\n",
      "Early stopping, best iteration is:\n",
      "[215]\tvalid_0's multi_logloss: 0.723858\tvalid_0's multi_error: 0.206159\n",
      "Fold 2, val_accuracy=0.7938412317536493\n",
      "Training until validation scores don't improve for 64 rounds.\n",
      "[16]\tvalid_0's multi_logloss: 1.32648\tvalid_0's multi_error: 0.313863\n",
      "[32]\tvalid_0's multi_logloss: 1.06073\tvalid_0's multi_error: 0.281256\n",
      "[48]\tvalid_0's multi_logloss: 0.935221\tvalid_0's multi_error: 0.261052\n",
      "[64]\tvalid_0's multi_logloss: 0.866804\tvalid_0's multi_error: 0.25185\n",
      "[80]\tvalid_0's multi_logloss: 0.827198\tvalid_0's multi_error: 0.243049\n",
      "[96]\tvalid_0's multi_logloss: 0.801921\tvalid_0's multi_error: 0.235647\n",
      "[112]\tvalid_0's multi_logloss: 0.78688\tvalid_0's multi_error: 0.233047\n",
      "[128]\tvalid_0's multi_logloss: 0.776736\tvalid_0's multi_error: 0.230046\n",
      "[144]\tvalid_0's multi_logloss: 0.770717\tvalid_0's multi_error: 0.228646\n",
      "[160]\tvalid_0's multi_logloss: 0.768215\tvalid_0's multi_error: 0.224845\n",
      "[176]\tvalid_0's multi_logloss: 0.766377\tvalid_0's multi_error: 0.224845\n",
      "[192]\tvalid_0's multi_logloss: 0.764849\tvalid_0's multi_error: 0.226845\n",
      "[208]\tvalid_0's multi_logloss: 0.766327\tvalid_0's multi_error: 0.226045\n",
      "[224]\tvalid_0's multi_logloss: 0.767287\tvalid_0's multi_error: 0.224245\n",
      "[240]\tvalid_0's multi_logloss: 0.76893\tvalid_0's multi_error: 0.223845\n",
      "[256]\tvalid_0's multi_logloss: 0.771328\tvalid_0's multi_error: 0.223245\n",
      "Early stopping, best iteration is:\n",
      "[193]\tvalid_0's multi_logloss: 0.76474\tvalid_0's multi_error: 0.226245\n",
      "Fold 3, val_accuracy=0.7737547509501901\n",
      "Training until validation scores don't improve for 64 rounds.\n",
      "[16]\tvalid_0's multi_logloss: 1.33096\tvalid_0's multi_error: 0.304165\n",
      "[32]\tvalid_0's multi_logloss: 1.06422\tvalid_0's multi_error: 0.273528\n",
      "[48]\tvalid_0's multi_logloss: 0.94015\tvalid_0's multi_error: 0.254505\n",
      "[64]\tvalid_0's multi_logloss: 0.873189\tvalid_0's multi_error: 0.244493\n",
      "[80]\tvalid_0's multi_logloss: 0.832195\tvalid_0's multi_error: 0.238286\n",
      "[96]\tvalid_0's multi_logloss: 0.808099\tvalid_0's multi_error: 0.232679\n",
      "[112]\tvalid_0's multi_logloss: 0.793208\tvalid_0's multi_error: 0.228674\n",
      "[128]\tvalid_0's multi_logloss: 0.783351\tvalid_0's multi_error: 0.225871\n",
      "[144]\tvalid_0's multi_logloss: 0.777868\tvalid_0's multi_error: 0.224469\n",
      "[160]\tvalid_0's multi_logloss: 0.774088\tvalid_0's multi_error: 0.222867\n",
      "[176]\tvalid_0's multi_logloss: 0.772433\tvalid_0's multi_error: 0.224069\n",
      "[192]\tvalid_0's multi_logloss: 0.772164\tvalid_0's multi_error: 0.222867\n",
      "[208]\tvalid_0's multi_logloss: 0.771072\tvalid_0's multi_error: 0.221466\n",
      "[224]\tvalid_0's multi_logloss: 0.772889\tvalid_0's multi_error: 0.221466\n",
      "[240]\tvalid_0's multi_logloss: 0.775528\tvalid_0's multi_error: 0.220665\n",
      "[256]\tvalid_0's multi_logloss: 0.778434\tvalid_0's multi_error: 0.222467\n",
      "Early stopping, best iteration is:\n",
      "[207]\tvalid_0's multi_logloss: 0.770929\tvalid_0's multi_error: 0.221666\n",
      "Fold 4, val_accuracy=0.7783340008009612\n",
      "Training until validation scores don't improve for 64 rounds.\n",
      "[16]\tvalid_0's multi_logloss: 1.28986\tvalid_0's multi_error: 0.292067\n",
      "[32]\tvalid_0's multi_logloss: 1.01396\tvalid_0's multi_error: 0.257212\n",
      "[48]\tvalid_0's multi_logloss: 0.887817\tvalid_0's multi_error: 0.23758\n",
      "[64]\tvalid_0's multi_logloss: 0.815416\tvalid_0's multi_error: 0.228966\n",
      "[80]\tvalid_0's multi_logloss: 0.773762\tvalid_0's multi_error: 0.220152\n",
      "[96]\tvalid_0's multi_logloss: 0.747052\tvalid_0's multi_error: 0.216747\n",
      "[112]\tvalid_0's multi_logloss: 0.730026\tvalid_0's multi_error: 0.213942\n",
      "[128]\tvalid_0's multi_logloss: 0.718362\tvalid_0's multi_error: 0.210737\n",
      "[144]\tvalid_0's multi_logloss: 0.710802\tvalid_0's multi_error: 0.211538\n",
      "[160]\tvalid_0's multi_logloss: 0.705727\tvalid_0's multi_error: 0.209135\n",
      "[176]\tvalid_0's multi_logloss: 0.701723\tvalid_0's multi_error: 0.209335\n",
      "[192]\tvalid_0's multi_logloss: 0.700016\tvalid_0's multi_error: 0.207332\n",
      "[208]\tvalid_0's multi_logloss: 0.698482\tvalid_0's multi_error: 0.206731\n",
      "[224]\tvalid_0's multi_logloss: 0.697545\tvalid_0's multi_error: 0.207732\n",
      "[240]\tvalid_0's multi_logloss: 0.697624\tvalid_0's multi_error: 0.206931\n",
      "[256]\tvalid_0's multi_logloss: 0.698132\tvalid_0's multi_error: 0.20613\n",
      "[272]\tvalid_0's multi_logloss: 0.699363\tvalid_0's multi_error: 0.202925\n",
      "[288]\tvalid_0's multi_logloss: 0.701416\tvalid_0's multi_error: 0.203526\n",
      "Early stopping, best iteration is:\n",
      "[227]\tvalid_0's multi_logloss: 0.697279\tvalid_0's multi_error: 0.207131\n",
      "Fold 5, val_accuracy=0.7928685897435898\n",
      "CPU times: user 35min 32s, sys: 1.15 s, total: 35min 33s\n",
      "Wall time: 2min 58s\n"
     ]
    }
   ],
   "source": [
    "%%time\n",
    "splitter = StratifiedKFold(n_splits=6, random_state=42, shuffle=True)\n",
    "results = []\n",
    "for fold, (train_idx_, eval_idx_) in enumerate(splitter.split(train_data, labels)):\n",
    "    train_X_, train_y_ = train_data[train_idx_], labels[train_idx_]\n",
    "    eval_X_, eval_y_ = train_data[eval_idx_], labels[eval_idx_]\n",
    "    model_params = {\n",
    "        'objective': 'multiclass',\n",
    "        'n_estimators': 512,\n",
    "        'n_classes': len(np.unique(labels)),\n",
    "        'n_jobs': 12,\n",
    "        'random_state': 42,\n",
    "        'silent': True,\n",
    "    }\n",
    "    fit_params = {\n",
    "        'eval_set': (eval_X_, eval_y_),\n",
    "        'eval_metric': 'multi_error',\n",
    "        'early_stopping_rounds': 64,\n",
    "        'verbose': 16,\n",
    "    }\n",
    "    model = LGBMClassifier(**model_params)\n",
    "    model.fit(train_X_, train_y_, **fit_params)\n",
    "    score = model.score(eval_X_, eval_y_)\n",
    "    print(f\"Fold {fold}, val_accuracy={score}\")\n",
    "    results.append({\n",
    "        'score': score,\n",
    "        'model': model\n",
    "    })"
   ]
  },
  {
   "cell_type": "markdown",
   "metadata": {
    "_uuid": "2e9a31a8ec420b42d89d330ecff175b0c035c597"
   },
   "source": [
    "# Submission generation\n",
    "For a start, we will just perform simple voting from out-of-fold predictions"
   ]
  },
  {
   "cell_type": "code",
   "execution_count": 46,
   "metadata": {
    "_uuid": "f2fbe0aef926a5fc301bb44ad8e3d1e7b561faf4",
    "scrolled": false
   },
   "outputs": [
    {
     "name": "stdout",
     "output_type": "stream",
     "text": [
      "(9774, 2)\n"
     ]
    },
    {
     "data": {
      "text/html": [
       "<div>\n",
       "<style scoped>\n",
       "    .dataframe tbody tr th:only-of-type {\n",
       "        vertical-align: middle;\n",
       "    }\n",
       "\n",
       "    .dataframe tbody tr th {\n",
       "        vertical-align: top;\n",
       "    }\n",
       "\n",
       "    .dataframe thead th {\n",
       "        text-align: right;\n",
       "    }\n",
       "</style>\n",
       "<table border=\"1\" class=\"dataframe\">\n",
       "  <thead>\n",
       "    <tr style=\"text-align: right;\">\n",
       "      <th></th>\n",
       "      <th>Id</th>\n",
       "      <th>cuisine</th>\n",
       "    </tr>\n",
       "  </thead>\n",
       "  <tbody>\n",
       "    <tr>\n",
       "      <th>0</th>\n",
       "      <td>24888</td>\n",
       "      <td>italian</td>\n",
       "    </tr>\n",
       "    <tr>\n",
       "      <th>1</th>\n",
       "      <td>43564</td>\n",
       "      <td>italian</td>\n",
       "    </tr>\n",
       "    <tr>\n",
       "      <th>2</th>\n",
       "      <td>21898</td>\n",
       "      <td>italian</td>\n",
       "    </tr>\n",
       "    <tr>\n",
       "      <th>3</th>\n",
       "      <td>6991</td>\n",
       "      <td>italian</td>\n",
       "    </tr>\n",
       "    <tr>\n",
       "      <th>4</th>\n",
       "      <td>37700</td>\n",
       "      <td>italian</td>\n",
       "    </tr>\n",
       "  </tbody>\n",
       "</table>\n",
       "</div>"
      ],
      "text/plain": [
       "      Id  cuisine\n",
       "0  24888  italian\n",
       "1  43564  italian\n",
       "2  21898  italian\n",
       "3   6991  italian\n",
       "4  37700  italian"
      ]
     },
     "execution_count": 46,
     "metadata": {},
     "output_type": "execute_result"
    }
   ],
   "source": [
    "sample_subm = pd.read_csv('./input/sample_submission.csv')\n",
    "print(sample_subm.shape)\n",
    "sample_subm.head()"
   ]
  },
  {
   "cell_type": "code",
   "execution_count": 47,
   "metadata": {
    "_uuid": "49db9a3cabb9aef01b9eaf199c784300ad04ceb6"
   },
   "outputs": [
    {
     "name": "stdout",
     "output_type": "stream",
     "text": [
      "Using label encored: LabelEncoder()\n",
      "Using result ids: [24888, 43564, 21898, 6991, 37700, 43546, 20544]...\n"
     ]
    }
   ],
   "source": [
    "result_ids = [r['id'] for r in test]\n",
    "print(f\"Using label encored: {label_encoder}\")\n",
    "print(f\"Using result ids: {result_ids[:7]}...\")\n",
    "\n",
    "def generate_predictions(model_data) -> pd.DataFrame:\n",
    "    model = model_data['model']\n",
    "    preds = model.predict(test_data, num_iteration=model.best_iteration_)\n",
    "    pred_names = label_encoder.inverse_transform(preds)\n",
    "    return pd.DataFrame({\n",
    "        'id': result_ids,\n",
    "        'cuisine': pred_names\n",
    "    })"
   ]
  },
  {
   "cell_type": "code",
   "execution_count": 48,
   "metadata": {
    "_uuid": "96a8806b1051298f98bbd4de83e5ed45ff44804d"
   },
   "outputs": [
    {
     "name": "stdout",
     "output_type": "stream",
     "text": [
      "CPU times: user 31.6 s, sys: 264 ms, total: 31.9 s\n",
      "Wall time: 2.66 s\n"
     ]
    }
   ],
   "source": [
    "%%time\n",
    "subm_dfs = [generate_predictions(model_data) for model_data in results]"
   ]
  },
  {
   "cell_type": "code",
   "execution_count": 49,
   "metadata": {
    "_uuid": "f2dec1a2da5e5321d8f87942a40c669179b98236"
   },
   "outputs": [
    {
     "name": "stdout",
     "output_type": "stream",
     "text": [
      "(58644, 2)\n"
     ]
    },
    {
     "data": {
      "text/html": [
       "<div>\n",
       "<style scoped>\n",
       "    .dataframe tbody tr th:only-of-type {\n",
       "        vertical-align: middle;\n",
       "    }\n",
       "\n",
       "    .dataframe tbody tr th {\n",
       "        vertical-align: top;\n",
       "    }\n",
       "\n",
       "    .dataframe thead th {\n",
       "        text-align: right;\n",
       "    }\n",
       "</style>\n",
       "<table border=\"1\" class=\"dataframe\">\n",
       "  <thead>\n",
       "    <tr style=\"text-align: right;\">\n",
       "      <th></th>\n",
       "      <th>id</th>\n",
       "      <th>cuisine</th>\n",
       "    </tr>\n",
       "  </thead>\n",
       "  <tbody>\n",
       "    <tr>\n",
       "      <th>0</th>\n",
       "      <td>24888</td>\n",
       "      <td>italian</td>\n",
       "    </tr>\n",
       "    <tr>\n",
       "      <th>1</th>\n",
       "      <td>43564</td>\n",
       "      <td>spanish</td>\n",
       "    </tr>\n",
       "    <tr>\n",
       "      <th>2</th>\n",
       "      <td>21898</td>\n",
       "      <td>italian</td>\n",
       "    </tr>\n",
       "    <tr>\n",
       "      <th>3</th>\n",
       "      <td>6991</td>\n",
       "      <td>moroccan</td>\n",
       "    </tr>\n",
       "    <tr>\n",
       "      <th>4</th>\n",
       "      <td>37700</td>\n",
       "      <td>spanish</td>\n",
       "    </tr>\n",
       "  </tbody>\n",
       "</table>\n",
       "</div>"
      ],
      "text/plain": [
       "      id   cuisine\n",
       "0  24888   italian\n",
       "1  43564   spanish\n",
       "2  21898   italian\n",
       "3   6991  moroccan\n",
       "4  37700   spanish"
      ]
     },
     "execution_count": 49,
     "metadata": {},
     "output_type": "execute_result"
    }
   ],
   "source": [
    "subm = pd.concat(subm_dfs)\n",
    "print(subm.shape)\n",
    "subm.head()"
   ]
  },
  {
   "cell_type": "code",
   "execution_count": 50,
   "metadata": {
    "_uuid": "6373ca7ac1f0ca1dd6c21168cf9182174405ecfe"
   },
   "outputs": [
    {
     "data": {
      "text/plain": [
       "2"
      ]
     },
     "execution_count": 50,
     "metadata": {},
     "output_type": "execute_result"
    }
   ],
   "source": [
    "sp.stats.mode([1,2,2,3]).mode[0]"
   ]
  },
  {
   "cell_type": "code",
   "execution_count": 51,
   "metadata": {
    "_uuid": "fec6d58ff92ba91fcdd794d8bc4da153325aab17"
   },
   "outputs": [
    {
     "name": "stderr",
     "output_type": "stream",
     "text": [
      "/home/kk385830/miniconda3/envs/kaggle-cooking/lib/python3.6/site-packages/scipy/stats/stats.py:245: RuntimeWarning: The input array could not be properly checked for nan values. nan values will be ignored.\n",
      "  \"values. nan values will be ignored.\", RuntimeWarning)\n"
     ]
    },
    {
     "name": "stdout",
     "output_type": "stream",
     "text": [
      "CPU times: user 2.29 s, sys: 40 ms, total: 2.33 s\n",
      "Wall time: 2.2 s\n"
     ]
    }
   ],
   "source": [
    "%%time\n",
    "_sf = subm.groupby('id').cuisine.apply(lambda arr: sp.stats.mode(arr).mode[0])\n",
    "subm_final = pd.DataFrame({\n",
    "    'Id': _sf.index,\n",
    "    'cuisine': _sf.values\n",
    "})"
   ]
  },
  {
   "cell_type": "code",
   "execution_count": 52,
   "metadata": {
    "_uuid": "cf939f3ee6838a64eb5248c8501d52a1bfdedc27",
    "scrolled": true
   },
   "outputs": [
    {
     "data": {
      "text/html": [
       "<div>\n",
       "<style scoped>\n",
       "    .dataframe tbody tr th:only-of-type {\n",
       "        vertical-align: middle;\n",
       "    }\n",
       "\n",
       "    .dataframe tbody tr th {\n",
       "        vertical-align: top;\n",
       "    }\n",
       "\n",
       "    .dataframe thead th {\n",
       "        text-align: right;\n",
       "    }\n",
       "</style>\n",
       "<table border=\"1\" class=\"dataframe\">\n",
       "  <thead>\n",
       "    <tr style=\"text-align: right;\">\n",
       "      <th></th>\n",
       "      <th>Id</th>\n",
       "      <th>cuisine</th>\n",
       "    </tr>\n",
       "  </thead>\n",
       "  <tbody>\n",
       "    <tr>\n",
       "      <th>0</th>\n",
       "      <td>16</td>\n",
       "      <td>indian</td>\n",
       "    </tr>\n",
       "    <tr>\n",
       "      <th>1</th>\n",
       "      <td>22</td>\n",
       "      <td>mexican</td>\n",
       "    </tr>\n",
       "    <tr>\n",
       "      <th>2</th>\n",
       "      <td>24</td>\n",
       "      <td>southern_us</td>\n",
       "    </tr>\n",
       "    <tr>\n",
       "      <th>3</th>\n",
       "      <td>32</td>\n",
       "      <td>japanese</td>\n",
       "    </tr>\n",
       "    <tr>\n",
       "      <th>4</th>\n",
       "      <td>48</td>\n",
       "      <td>indian</td>\n",
       "    </tr>\n",
       "  </tbody>\n",
       "</table>\n",
       "</div>"
      ],
      "text/plain": [
       "   Id      cuisine\n",
       "0  16       indian\n",
       "1  22      mexican\n",
       "2  24  southern_us\n",
       "3  32     japanese\n",
       "4  48       indian"
      ]
     },
     "execution_count": 52,
     "metadata": {},
     "output_type": "execute_result"
    }
   ],
   "source": [
    "subm_final.head()"
   ]
  },
  {
   "cell_type": "code",
   "execution_count": 53,
   "metadata": {
    "_uuid": "5a69b9c80bca5e5f3db5cfd540f0b9194d42ddc2"
   },
   "outputs": [],
   "source": [
    "# sanity checks\n",
    "assert(subm_final.notna().all().all())\n",
    "assert(sorted(sample_subm['Id'].unique()) == sorted(subm_final['Id'].unique()))\n",
    "assert(sample_subm.shape == subm_final.shape)"
   ]
  },
  {
   "cell_type": "code",
   "execution_count": 54,
   "metadata": {
    "_uuid": "313483786f339f90463372c7521c19febffde838"
   },
   "outputs": [
    {
     "data": {
      "text/plain": [
       "'./submissions/LGBM-cvmean=0.7871-cvstd=0.0082.csv'"
      ]
     },
     "execution_count": 54,
     "metadata": {},
     "output_type": "execute_result"
    }
   ],
   "source": [
    "scores = [model_data['score'] for model_data in results]\n",
    "mean_cv_score = np.mean(scores)\n",
    "std_cv_score = np.std(scores)\n",
    "model_name = 'LGBM'\n",
    "subm_filename = f'{model_name}-cvmean={mean_cv_score:.4f}-cvstd={std_cv_score:.4f}.csv'\n",
    "subm_path = os.path.join('./submissions/', subm_filename)\n",
    "subm_path"
   ]
  },
  {
   "cell_type": "code",
   "execution_count": 55,
   "metadata": {
    "_uuid": "93117cab164c073d5582244e4ae2903f94a1243e"
   },
   "outputs": [],
   "source": [
    "subm_final.to_csv(subm_path, index=False)"
   ]
  },
  {
   "cell_type": "code",
   "execution_count": 56,
   "metadata": {},
   "outputs": [
    {
     "name": "stdout",
     "output_type": "stream",
     "text": [
      "100%|████████████████████████████████████████| 136k/136k [00:03<00:00, 39.5kB/s]\n",
      "Successfully submitted to ML1819 - What's Cooking?"
     ]
    }
   ],
   "source": [
    "!kaggle competitions submit -f {subm_path} -m \"Position-based vectors for top ingredients, Tf-Idf for the rest\" ml1819-whats-cooking"
   ]
  },
  {
   "cell_type": "markdown",
   "metadata": {
    "_uuid": "90d7062a70263bb807645d9e965cf37413e745ad"
   },
   "source": [
    "# Possible improvements"
   ]
  },
  {
   "cell_type": "markdown",
   "metadata": {},
   "source": [
    "LB = 0.79, did not improve the baseline.\n",
    "- Preprocessing ingredients even more"
   ]
  }
 ],
 "metadata": {
  "kernelspec": {
   "display_name": "Python 3",
   "language": "python",
   "name": "python3"
  },
  "language_info": {
   "codemirror_mode": {
    "name": "ipython",
    "version": 3
   },
   "file_extension": ".py",
   "mimetype": "text/x-python",
   "name": "python",
   "nbconvert_exporter": "python",
   "pygments_lexer": "ipython3",
   "version": "3.6.6"
  }
 },
 "nbformat": 4,
 "nbformat_minor": 2
}
